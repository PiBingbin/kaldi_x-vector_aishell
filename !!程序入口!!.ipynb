{
 "cells": [
  {
   "cell_type": "code",
   "execution_count": 10,
   "metadata": {},
   "outputs": [],
   "source": [
    "#-------------------------------------------\n",
    "#\n",
    "# 第一步，准备索引文件。\n",
    "# 核心的索引文件包括，  spk2utt，utt2spk，wav.scp\n",
    "#\n",
    "#-------------------------------------------"
   ]
  },
  {
   "cell_type": "code",
   "execution_count": 9,
   "metadata": {},
   "outputs": [
    {
     "name": "stdout",
     "output_type": "stream",
     "text": [
      "Preparing data/local/train transcriptions\n",
      "Preparing data/local/test transcriptions\n",
      "local/aishell_data_prep.sh: AISHELL data preparation succeeded\n"
     ]
    }
   ],
   "source": [
    "!./01_prepare_data.sh"
   ]
  },
  {
   "cell_type": "code",
   "execution_count": 11,
   "metadata": {},
   "outputs": [
    {
     "name": "stdout",
     "output_type": "stream",
     "text": [
      "\u001b[01;34mdata\u001b[00m\r\n",
      "├── \u001b[01;34mdata/local\u001b[00m\r\n",
      "│   ├── \u001b[01;34mdata/local/dev\u001b[00m\r\n",
      "│   │   └── data/local/dev/wav.flist\r\n",
      "│   ├── \u001b[01;34mdata/local/test\u001b[00m\r\n",
      "│   │   ├── data/local/test/spk2utt\r\n",
      "│   │   ├── data/local/test/text\r\n",
      "│   │   ├── data/local/test/transcripts.txt\r\n",
      "│   │   ├── data/local/test/utt2spk\r\n",
      "│   │   ├── data/local/test/utt2spk_all\r\n",
      "│   │   ├── data/local/test/utt.list\r\n",
      "│   │   ├── data/local/test/wav.flist\r\n",
      "│   │   ├── data/local/test/wav.scp\r\n",
      "│   │   └── data/local/test/wav.scp_all\r\n",
      "│   └── \u001b[01;34mdata/local/train\u001b[00m\r\n",
      "│       ├── data/local/train/spk2utt\r\n",
      "│       ├── data/local/train/text\r\n",
      "│       ├── data/local/train/transcripts.txt\r\n",
      "│       ├── data/local/train/utt2spk\r\n",
      "│       ├── data/local/train/utt2spk_all\r\n",
      "│       ├── data/local/train/utt.list\r\n",
      "│       ├── data/local/train/wav.flist\r\n",
      "│       ├── data/local/train/wav.scp\r\n",
      "│       └── data/local/train/wav.scp_all\r\n",
      "├── \u001b[01;34mdata/test\u001b[00m\r\n",
      "│   ├── data/test/spk2utt\r\n",
      "│   ├── data/test/text\r\n",
      "│   ├── data/test/utt2spk\r\n",
      "│   └── data/test/wav.scp\r\n",
      "└── \u001b[01;34mdata/train\u001b[00m\r\n",
      "    ├── data/train/spk2utt\r\n",
      "    ├── data/train/text\r\n",
      "    ├── data/train/utt2spk\r\n",
      "    └── data/train/wav.scp\r\n",
      "\r\n",
      "6 directories, 27 files\r\n"
     ]
    }
   ],
   "source": [
    "!tree -f data"
   ]
  },
  {
   "cell_type": "code",
   "execution_count": null,
   "metadata": {},
   "outputs": [],
   "source": [
    "#-------------------------------------------\n",
    "#\n",
    "# 第二步，进行数据扩充\n",
    "# 1. 增加混响\n",
    "# 2. 增加3种类型不同的噪声\n",
    "#\n",
    "#-------------------------------------------"
   ]
  },
  {
   "cell_type": "code",
   "execution_count": 20,
   "metadata": {},
   "outputs": [
    {
     "name": "stdout",
     "output_type": "stream",
     "text": [
      "steps/data/reverberate_data_dir.py:8: DeprecationWarning: the imp module is deprecated in favour of importlib; see the module's documentation for alternative uses\n",
      "  import argparse, shlex, glob, math, os, random, sys, warnings, copy, imp, ast\n",
      "steps/data/reverberate_data_dir.py --rir-set-parameters 0.5, /home/qinyc/openSLR/SLR28_rir/RIRS_NOISES/simulated_rirs/smallroom/rir_list --rir-set-parameters 0.5, /home/qinyc/openSLR/SLR28_rir/RIRS_NOISES/simulated_rirs/mediumroom/rir_list --speech-rvb-probability 1 --pointsource-noise-addition-probability 0 --isotropic-noise-addition-probability 0 --num-replications 1 --source-sampling-rate 16000 data/train data/train_reverb\n",
      "Number of RIRs is 40000\n",
      "utils/copy_data_dir.sh: copied data from data/train_reverb to data/train_reverb.new\n",
      "utils/validate_data_dir.sh: Successfully validated data-directory data/train_reverb.new\n"
     ]
    }
   ],
   "source": [
    "# !chmod +x 02_data_augment_and_mfcc.sh\n",
    "!./02_data_augment_and_mfcc.sh"
   ]
  },
  {
   "cell_type": "code",
   "execution_count": 1,
   "metadata": {},
   "outputs": [
    {
     "name": "stdout",
     "output_type": "stream",
     "text": [
      "utils/combine_data.sh data/train_aug data/train_reverb data/train_noise data/train_music data/train_babble\n",
      "utils/combine_data.sh: combined utt2uniq\n",
      "utils/combine_data.sh [info]: not combining segments as it does not exist\n",
      "utils/combine_data.sh: combined utt2spk\n",
      "utils/combine_data.sh [info]: not combining utt2lang as it does not exist\n",
      "utils/combine_data.sh [info]: not combining utt2dur as it does not exist\n",
      "utils/combine_data.sh [info]: not combining utt2num_frames as it does not exist\n",
      "utils/combine_data.sh [info]: **not combining reco2dur as it does not exist everywhere**\n",
      "utils/combine_data.sh [info]: not combining feats.scp as it does not exist\n",
      "utils/combine_data.sh: combined text\n",
      "utils/combine_data.sh [info]: not combining cmvn.scp as it does not exist\n",
      "utils/combine_data.sh [info]: not combining vad.scp as it does not exist\n",
      "utils/combine_data.sh [info]: not combining reco2file_and_channel as it does not exist\n",
      "utils/combine_data.sh: combined wav.scp\n",
      "utils/combine_data.sh [info]: not combining spk2gender as it does not exist\n",
      "fix_data_dir.sh: kept all 480392 utterances.\n",
      "fix_data_dir.sh: old files are kept in data/train_aug/.backup\n"
     ]
    }
   ],
   "source": [
    "!./02_data_augment_and_mfcc.sh"
   ]
  },
  {
   "cell_type": "code",
   "execution_count": 23,
   "metadata": {},
   "outputs": [
    {
     "name": "stdout",
     "output_type": "stream",
     "text": [
      "steps/data/make_musan.sh --sampling-rate 16000 /home/qinyc/openSLR/SLR17_musan/musan data\n",
      "steps/data/make_musan.py --use-vocals true --sampling-rate 16000 /home/qinyc/openSLR/SLR17_musan/musan data/musan\n",
      "In music directory, processed 645 files; 0 had missing wav data\n",
      "In speech directory, processed 426 files; 0 had missing wav data\n",
      "In noise directory, processed 930 files; 0 had missing wav data\n",
      "utils/fix_data_dir.sh: file data/musan/utt2spk is not in sorted order or not unique, sorting it\n",
      "utils/fix_data_dir.sh: file data/musan/wav.scp is not in sorted order or not unique, sorting it\n",
      "fix_data_dir.sh: kept all 2001 utterances.\n",
      "fix_data_dir.sh: old files are kept in data/musan/.backup\n",
      "utils/subset_data_dir.sh: reducing #utt from 2001 to 645\n",
      "utils/subset_data_dir.sh: reducing #utt from 2001 to 426\n",
      "utils/subset_data_dir.sh: reducing #utt from 2001 to 930\n",
      "fix_data_dir.sh: kept all 645 utterances.\n",
      "fix_data_dir.sh: old files are kept in data/musan_music/.backup\n",
      "fix_data_dir.sh: kept all 426 utterances.\n",
      "fix_data_dir.sh: old files are kept in data/musan_speech/.backup\n",
      "fix_data_dir.sh: kept all 930 utterances.\n",
      "fix_data_dir.sh: old files are kept in data/musan_noise/.backup\n",
      "utils/data/get_reco2dur.sh: data/musan_speech/reco2dur already exists with the expected length.  We won't recompute it.\n",
      "utils/data/get_reco2dur.sh: data/musan_noise/reco2dur already exists with the expected length.  We won't recompute it.\n",
      "utils/data/get_reco2dur.sh: data/musan_music/reco2dur already exists with the expected length.  We won't recompute it.\n",
      "utils/data/get_utt2dur.sh: segments file does not exist so getting durations from wave files\n",
      "utils/data/get_utt2dur.sh: could not get utterance lengths from sphere-file headers, using wav-to-duration\n",
      "utils/data/get_utt2dur.sh: computed data/musan_speech/utt2dur\n",
      "utils/data/get_utt2dur.sh: segments file does not exist so getting durations from wave files\n",
      "utils/data/get_utt2dur.sh: could not get utterance lengths from sphere-file headers, using wav-to-duration\n",
      "utils/data/get_utt2dur.sh: computed data/musan_noise/utt2dur\n",
      "utils/data/get_utt2dur.sh: segments file does not exist so getting durations from wave files\n",
      "utils/data/get_utt2dur.sh: could not get utterance lengths from sphere-file headers, using wav-to-duration\n",
      "utils/data/get_utt2dur.sh: computed data/musan_music/utt2dur\n",
      "steps/data/augment_data_dir.py:12: DeprecationWarning: the imp module is deprecated in favour of importlib; see the module's documentation for alternative uses\n",
      "  import sys, random, argparse, os, imp\n",
      "steps/data/augment_data_dir.py --utt-suffix noise --fg-interval 1 --fg-snrs 15:10:5:0 --fg-noise-dir data/musan_noise data/train data/train_noise\n",
      "steps/data/augment_data_dir.py:12: DeprecationWarning: the imp module is deprecated in favour of importlib; see the module's documentation for alternative uses\n",
      "  import sys, random, argparse, os, imp\n",
      "steps/data/augment_data_dir.py --utt-suffix music --bg-snrs 15:10:8:5 --num-bg-noises 1 --bg-noise-dir data/musan_music data/train data/train_music\n",
      "steps/data/augment_data_dir.py:12: DeprecationWarning: the imp module is deprecated in favour of importlib; see the module's documentation for alternative uses\n",
      "  import sys, random, argparse, os, imp\n",
      "steps/data/augment_data_dir.py --utt-suffix babble --bg-snrs 20:17:15:13 --num-bg-noises 3:4:5:6:7 --bg-noise-dir data/musan_speech data/train data/train_babble\n"
     ]
    }
   ],
   "source": [
    "!./02_data_augment_and_mfcc.sh"
   ]
  },
  {
   "cell_type": "code",
   "execution_count": 25,
   "metadata": {},
   "outputs": [
    {
     "name": "stdout",
     "output_type": "stream",
     "text": [
      "utils/combine_data.sh data/train_aug data/train_reverb data/train_noise data/train_music data/train_babble\n",
      "utils/combine_data.sh: combined utt2uniq\n",
      "utils/combine_data.sh [info]: not combining segments as it does not exist\n",
      "utils/combine_data.sh: combined utt2spk\n",
      "utils/combine_data.sh [info]: not combining utt2lang as it does not exist\n",
      "utils/combine_data.sh [info]: not combining utt2dur as it does not exist\n",
      "utils/combine_data.sh [info]: not combining utt2num_frames as it does not exist\n",
      "utils/combine_data.sh [info]: **not combining reco2dur as it does not exist everywhere**\n",
      "utils/combine_data.sh [info]: not combining feats.scp as it does not exist\n",
      "utils/combine_data.sh: combined text\n",
      "utils/combine_data.sh [info]: not combining cmvn.scp as it does not exist\n",
      "utils/combine_data.sh [info]: not combining vad.scp as it does not exist\n",
      "utils/combine_data.sh [info]: not combining reco2file_and_channel as it does not exist\n",
      "utils/combine_data.sh: combined wav.scp\n",
      "utils/combine_data.sh [info]: not combining spk2gender as it does not exist\n",
      "fix_data_dir.sh: kept all 480392 utterances.\n",
      "fix_data_dir.sh: old files are kept in data/train_aug/.backup\n"
     ]
    }
   ],
   "source": [
    "!./02_data_augment_and_mfcc.sh"
   ]
  },
  {
   "cell_type": "code",
   "execution_count": 1,
   "metadata": {},
   "outputs": [
    {
     "name": "stdout",
     "output_type": "stream",
     "text": [
      "./02_data_augment_and_mfcc.sh: 9: ./02_data_augment_and_mfcc.sh: Syntax error: \"(\" unexpected\n",
      "耗时： 0.11585521697998047\n"
     ]
    }
   ],
   "source": [
    "import time\n",
    "ss =time.time()\n",
    "\n",
    "!./02_data_augment_and_mfcc.sh\n",
    "\n",
    "print(\"耗时：\",time.time()-ss)"
   ]
  },
  {
   "cell_type": "code",
   "execution_count": null,
   "metadata": {},
   "outputs": [],
   "source": [
    "## 共提取了3.6G的mfcc特征。"
   ]
  }
 ],
 "metadata": {
  "kernelspec": {
   "display_name": "Python 3",
   "language": "python",
   "name": "python3"
  },
  "language_info": {
   "codemirror_mode": {
    "name": "ipython",
    "version": 3
   },
   "file_extension": ".py",
   "mimetype": "text/x-python",
   "name": "python",
   "nbconvert_exporter": "python",
   "pygments_lexer": "ipython3",
   "version": "3.7.0"
  }
 },
 "nbformat": 4,
 "nbformat_minor": 2
}
